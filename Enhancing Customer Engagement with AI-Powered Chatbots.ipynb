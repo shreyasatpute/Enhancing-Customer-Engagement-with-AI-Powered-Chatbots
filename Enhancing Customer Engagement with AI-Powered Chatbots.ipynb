{
 "cells": [
  {
   "cell_type": "code",
   "execution_count": null,
   "id": "1d504581",
   "metadata": {},
   "outputs": [
    {
     "name": "stdout",
     "output_type": "stream",
     "text": [
      "Hello! I'm a simple chatbot. You can type 'quit' to exit.\n",
      "You: i have a query\n",
      "Chatbot: None\n"
     ]
    }
   ],
   "source": [
    "# Import necessary libraries\n",
    "import nltk\n",
    "from nltk.chat.util import Chat, reflections\n",
    "\n",
    "# Define pairs of patterns and responses\n",
    "pairs = [\n",
    "    [\n",
    "        r\"hi|hello|hey\",\n",
    "        [\"Hello!\", \"Hi there!\", \"How can I help you today?\"]\n",
    "    ],\n",
    "    [\n",
    "        r\"what is your name?\",\n",
    "        [\"I'm just a chatbot.\", \"Call me ChatGPT.\"]\n",
    "    ],\n",
    "    [\n",
    "        r\"how are you ?\",\n",
    "        [\"I'm good, thank you!\", \"I'm doing well. How about you?\"]\n",
    "    ],\n",
    "    [\n",
    "        r\"quit|bye\",\n",
    "        [\"Goodbye!\", \"It was nice talking to you. Have a great day!\"]\n",
    "    ],\n",
    "]\n",
    "\n",
    "# Create a Chat instance\n",
    "chatbot = Chat(pairs, reflections)\n",
    "\n",
    "# Define a function to chat with the user\n",
    "def chat_with_user():\n",
    "    print(\"Hello! I'm a simple chatbot. You can type 'quit' to exit.\")\n",
    "    while True:\n",
    "        user_input = input(\"You: \")\n",
    "        if user_input.lower() == 'quit':\n",
    "            print(\"Chatbot: Goodbye!\")\n",
    "            break\n",
    "        response = chatbot.respond(user_input)\n",
    "        print(\"Chatbot:\", response)\n",
    "\n",
    "# Start chatting\n",
    "chat_with_user()\n"
   ]
  },
  {
   "cell_type": "code",
   "execution_count": null,
   "id": "481a7d05",
   "metadata": {},
   "outputs": [],
   "source": []
  }
 ],
 "metadata": {
  "kernelspec": {
   "display_name": "Python 3 (ipykernel)",
   "language": "python",
   "name": "python3"
  },
  "language_info": {
   "codemirror_mode": {
    "name": "ipython",
    "version": 3
   },
   "file_extension": ".py",
   "mimetype": "text/x-python",
   "name": "python",
   "nbconvert_exporter": "python",
   "pygments_lexer": "ipython3",
   "version": "3.9.12"
  }
 },
 "nbformat": 4,
 "nbformat_minor": 5
}
